{
 "cells": [
  {
   "cell_type": "code",
   "execution_count": null,
   "id": "01b30bc5-0af4-4272-9ad8-18bef89cd929",
   "metadata": {},
   "outputs": [],
   "source": []
  }
 ],
 "metadata": {
  "kernelspec": {
   "display_name": "",
   "name": ""
  },
  "language_info": {
   "name": ""
  }
 },
 "nbformat": 4,
 "nbformat_minor": 5
}
